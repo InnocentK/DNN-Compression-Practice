{
 "cells": [
  {
   "cell_type": "markdown",
   "metadata": {},
   "source": [
    "## Instructions\n",
    "\n",
    "You are asked to complete the following files:\n",
    "* **pruned_layers.py**, which contains the pruning of DNNs to reduce the storage of insignificant weight parameters with 2 methods: pruning by percentage and prune by standara deviation.\n",
    "* **train_util.py**, which includes the training process of DNNs with pruned connections.\n",
    "* **quantize.py**, which applies the quantization (weight sharing) part on the DNN to reduce the storage of weight parameters.\n",
    "* **huffman_coding.py**, which applies the Huffman coding onto the weight of DNNs to further compress the weight size.\n",
    "\n",
    "You are asked to submit the following files:\n",
    "* **net_before_pruning.pt**, which is the weight parameters before applying pruning on DNN weight parameters.\n",
    "* **net_after_pruning.pt**, which is the weight paramters after applying pruning on DNN weight parameters.\n",
    "* **net_after_quantization.pt**, which is the weight parameters after applying quantization (weight sharing) on DNN weight parameters.\n",
    "* **codebook_vgg16.npy**, which is the quantization codebook of each layer after applying quantization (weight sharing).\n",
    "* **huffman_encoding.npy**, which is the encoding map of each item within the quantization codebook in the whole DNN architecture.\n",
    "* **huffman_freq.npy**, which is the frequency map of each item within the quantization codebook in the whole DNN. \n",
    "\n",
    "To ensure fair grading policy, we fix the choice of model to VGG16_half, which is a down-scaled version of VGG16 using a width multiplier of 0.5. You may check the implementation in **vgg16.py** for more details."
   ]
  },
  {
   "cell_type": "code",
   "execution_count": 1,
   "metadata": {
    "pycharm": {
     "is_executing": false
    }
   },
   "outputs": [],
   "source": [
    "from vgg16 import VGG16, VGG16_half\n",
    "from train_util import train, finetune_after_prune, test\n",
    "from quantize import quantize_whole_model\n",
    "from huffman_coding import huffman_coding\n",
    "from summary import summary\n",
    "import torch\n",
    "import numpy as np\n",
    "from prune import prune\n",
    "\n",
    "device = 'cuda' if torch.cuda.is_available() else 'cpu'"
   ]
  },
  {
   "cell_type": "markdown",
   "metadata": {},
   "source": [
    "### Full-precision model training"
   ]
  },
  {
   "cell_type": "code",
   "execution_count": 2,
   "metadata": {
    "pycharm": {
     "is_executing": false,
     "name": "#%%\n"
    }
   },
   "outputs": [
    {
     "data": {
      "text/plain": [
       "<All keys matched successfully>"
      ]
     },
     "execution_count": 2,
     "metadata": {},
     "output_type": "execute_result"
    }
   ],
   "source": [
    "net = VGG16_half()\n",
    "net = net.to(device)\n",
    "\n",
    "# Uncomment to load pretrained weights\n",
    "net.load_state_dict(torch.load(\"net_before_pruning.pt\"))\n",
    "\n",
    "# Comment if you have loaded pretrained weights\n",
    "# Tune the hyperparameters here.\n",
    "#train(net, epochs=100, batch_size=233, lr=0.0173, reg=1e-2)"
   ]
  },
  {
   "cell_type": "code",
   "execution_count": 3,
   "metadata": {},
   "outputs": [
    {
     "name": "stdout",
     "output_type": "stream",
     "text": [
      "Files already downloaded and verified\n",
      "Test Loss=0.3027, Test accuracy=0.9177\n"
     ]
    }
   ],
   "source": [
    "# Load the best weight paramters\n",
    "net.load_state_dict(torch.load(\"net_before_pruning.pt\"))\n",
    "test(net)"
   ]
  },
  {
   "cell_type": "code",
   "execution_count": 4,
   "metadata": {},
   "outputs": [
    {
     "name": "stdout",
     "output_type": "stream",
     "text": [
      "-----Summary before pruning-----\n",
      "Layer id\tType\t\tParameter\tNon-zero parameter\tSparsity(\\%)\n",
      "1\t\tConvolutional\t864\t\t864\t\t\t0.000000\n",
      "2\t\tBatchNorm\tN/A\t\tN/A\t\t\tN/A\n",
      "3\t\tReLU\t\tN/A\t\tN/A\t\t\tN/A\n",
      "4\t\tConvolutional\t9216\t\t9216\t\t\t0.000000\n",
      "5\t\tBatchNorm\tN/A\t\tN/A\t\t\tN/A\n",
      "6\t\tReLU\t\tN/A\t\tN/A\t\t\tN/A\n",
      "7\t\tConvolutional\t18432\t\t18432\t\t\t0.000000\n",
      "8\t\tBatchNorm\tN/A\t\tN/A\t\t\tN/A\n",
      "9\t\tReLU\t\tN/A\t\tN/A\t\t\tN/A\n",
      "10\t\tConvolutional\t36864\t\t36864\t\t\t0.000000\n",
      "11\t\tBatchNorm\tN/A\t\tN/A\t\t\tN/A\n",
      "12\t\tReLU\t\tN/A\t\tN/A\t\t\tN/A\n",
      "13\t\tConvolutional\t73728\t\t73728\t\t\t0.000000\n",
      "14\t\tBatchNorm\tN/A\t\tN/A\t\t\tN/A\n",
      "15\t\tReLU\t\tN/A\t\tN/A\t\t\tN/A\n",
      "16\t\tConvolutional\t147456\t\t147456\t\t\t0.000000\n",
      "17\t\tBatchNorm\tN/A\t\tN/A\t\t\tN/A\n",
      "18\t\tReLU\t\tN/A\t\tN/A\t\t\tN/A\n",
      "19\t\tConvolutional\t147456\t\t147456\t\t\t0.000000\n",
      "20\t\tBatchNorm\tN/A\t\tN/A\t\t\tN/A\n",
      "21\t\tReLU\t\tN/A\t\tN/A\t\t\tN/A\n",
      "22\t\tConvolutional\t294912\t\t294912\t\t\t0.000000\n",
      "23\t\tBatchNorm\tN/A\t\tN/A\t\t\tN/A\n",
      "24\t\tReLU\t\tN/A\t\tN/A\t\t\tN/A\n",
      "25\t\tConvolutional\t589824\t\t589824\t\t\t0.000000\n",
      "26\t\tBatchNorm\tN/A\t\tN/A\t\t\tN/A\n",
      "27\t\tReLU\t\tN/A\t\tN/A\t\t\tN/A\n",
      "28\t\tConvolutional\t589824\t\t589824\t\t\t0.000000\n",
      "29\t\tBatchNorm\tN/A\t\tN/A\t\t\tN/A\n",
      "30\t\tReLU\t\tN/A\t\tN/A\t\t\tN/A\n",
      "31\t\tConvolutional\t589824\t\t589824\t\t\t0.000000\n",
      "32\t\tBatchNorm\tN/A\t\tN/A\t\t\tN/A\n",
      "33\t\tReLU\t\tN/A\t\tN/A\t\t\tN/A\n",
      "34\t\tConvolutional\t589824\t\t589824\t\t\t0.000000\n",
      "35\t\tBatchNorm\tN/A\t\tN/A\t\t\tN/A\n",
      "36\t\tReLU\t\tN/A\t\tN/A\t\t\tN/A\n",
      "37\t\tConvolutional\t589824\t\t589824\t\t\t0.000000\n",
      "38\t\tBatchNorm\tN/A\t\tN/A\t\t\tN/A\n",
      "39\t\tReLU\t\tN/A\t\tN/A\t\t\tN/A\n",
      "40\t\tLinear\t\t65536\t\t65536\t\t\t0.000000\n",
      "41\t\tBatchNorm\tN/A\t\tN/A\t\t\tN/A\n",
      "42\t\tReLU\t\tN/A\t\tN/A\t\t\tN/A\n",
      "43\t\tLinear\t\t65536\t\t65536\t\t\t0.000000\n",
      "44\t\tBatchNorm\tN/A\t\tN/A\t\t\tN/A\n",
      "45\t\tReLU\t\tN/A\t\tN/A\t\t\tN/A\n",
      "46\t\tLinear\t\t2560\t\t2560\t\t\t0.000000\n",
      "Total nonzero parameters: 3811680\n",
      "Total parameters: 3811680\n",
      "Total sparsity: 0.000000\n",
      "-------------------------------\n"
     ]
    }
   ],
   "source": [
    "print(\"-----Summary before pruning-----\")\n",
    "summary(net)\n",
    "print(\"-------------------------------\")"
   ]
  },
  {
   "cell_type": "markdown",
   "metadata": {},
   "source": [
    "### Pruning & Finetune with pruned connections"
   ]
  },
  {
   "cell_type": "code",
   "execution_count": 5,
   "metadata": {
    "scrolled": false
   },
   "outputs": [
    {
     "name": "stdout",
     "output_type": "stream",
     "text": [
      "Files already downloaded and verified\n",
      "Test Loss=0.3275, Test accuracy=0.9082\n"
     ]
    }
   ],
   "source": [
    "# Test accuracy before fine-tuning\n",
    "prune(net, method='percentage', q=45.0, s=0.75)\n",
    "test(net)"
   ]
  },
  {
   "cell_type": "code",
   "execution_count": 6,
   "metadata": {},
   "outputs": [
    {
     "data": {
      "text/plain": [
       "<All keys matched successfully>"
      ]
     },
     "execution_count": 6,
     "metadata": {},
     "output_type": "execute_result"
    }
   ],
   "source": [
    "# Uncomment to load pretrained weights\n",
    "net.load_state_dict(torch.load(\"net_after_pruning.pt\"))\n",
    "# Comment if you have loaded pretrained weights\n",
    "# finetune_after_prune(net, epochs=50, batch_size=128, lr=0.001, reg=5e-5)"
   ]
  },
  {
   "cell_type": "code",
   "execution_count": 7,
   "metadata": {},
   "outputs": [
    {
     "name": "stdout",
     "output_type": "stream",
     "text": [
      "Files already downloaded and verified\n",
      "Test Loss=0.3664, Test accuracy=0.9101\n"
     ]
    }
   ],
   "source": [
    "# Load the best weight paramters\n",
    "net.load_state_dict(torch.load(\"net_after_pruning.pt\"))\n",
    "test(net)"
   ]
  },
  {
   "cell_type": "code",
   "execution_count": 8,
   "metadata": {},
   "outputs": [
    {
     "name": "stdout",
     "output_type": "stream",
     "text": [
      "-----Summary After pruning-----\n",
      "Layer id\tType\t\tParameter\tNon-zero parameter\tSparsity(\\%)\n",
      "1\t\tConvolutional\t864\t\t475\t\t\t0.450231\n",
      "2\t\tBatchNorm\tN/A\t\tN/A\t\t\tN/A\n",
      "3\t\tReLU\t\tN/A\t\tN/A\t\t\tN/A\n",
      "4\t\tConvolutional\t9216\t\t5069\t\t\t0.449978\n",
      "5\t\tBatchNorm\tN/A\t\tN/A\t\t\tN/A\n",
      "6\t\tReLU\t\tN/A\t\tN/A\t\t\tN/A\n",
      "7\t\tConvolutional\t18432\t\t10138\t\t\t0.449978\n",
      "8\t\tBatchNorm\tN/A\t\tN/A\t\t\tN/A\n",
      "9\t\tReLU\t\tN/A\t\tN/A\t\t\tN/A\n",
      "10\t\tConvolutional\t36864\t\t20275\t\t\t0.450005\n",
      "11\t\tBatchNorm\tN/A\t\tN/A\t\t\tN/A\n",
      "12\t\tReLU\t\tN/A\t\tN/A\t\t\tN/A\n",
      "13\t\tConvolutional\t73728\t\t40550\t\t\t0.450005\n",
      "14\t\tBatchNorm\tN/A\t\tN/A\t\t\tN/A\n",
      "15\t\tReLU\t\tN/A\t\tN/A\t\t\tN/A\n",
      "16\t\tConvolutional\t147456\t\t81101\t\t\t0.449999\n",
      "17\t\tBatchNorm\tN/A\t\tN/A\t\t\tN/A\n",
      "18\t\tReLU\t\tN/A\t\tN/A\t\t\tN/A\n",
      "19\t\tConvolutional\t147456\t\t81101\t\t\t0.449999\n",
      "20\t\tBatchNorm\tN/A\t\tN/A\t\t\tN/A\n",
      "21\t\tReLU\t\tN/A\t\tN/A\t\t\tN/A\n",
      "22\t\tConvolutional\t294912\t\t162202\t\t\t0.449999\n",
      "23\t\tBatchNorm\tN/A\t\tN/A\t\t\tN/A\n",
      "24\t\tReLU\t\tN/A\t\tN/A\t\t\tN/A\n",
      "25\t\tConvolutional\t589824\t\t324403\t\t\t0.450000\n",
      "26\t\tBatchNorm\tN/A\t\tN/A\t\t\tN/A\n",
      "27\t\tReLU\t\tN/A\t\tN/A\t\t\tN/A\n",
      "28\t\tConvolutional\t589824\t\t324403\t\t\t0.450000\n",
      "29\t\tBatchNorm\tN/A\t\tN/A\t\t\tN/A\n",
      "30\t\tReLU\t\tN/A\t\tN/A\t\t\tN/A\n",
      "31\t\tConvolutional\t589824\t\t324403\t\t\t0.450000\n",
      "32\t\tBatchNorm\tN/A\t\tN/A\t\t\tN/A\n",
      "33\t\tReLU\t\tN/A\t\tN/A\t\t\tN/A\n",
      "34\t\tConvolutional\t589824\t\t324403\t\t\t0.450000\n",
      "35\t\tBatchNorm\tN/A\t\tN/A\t\t\tN/A\n",
      "36\t\tReLU\t\tN/A\t\tN/A\t\t\tN/A\n",
      "37\t\tConvolutional\t589824\t\t324403\t\t\t0.450000\n",
      "38\t\tBatchNorm\tN/A\t\tN/A\t\t\tN/A\n",
      "39\t\tReLU\t\tN/A\t\tN/A\t\t\tN/A\n",
      "40\t\tLinear\t\t65536\t\t36045\t\t\t0.449997\n",
      "41\t\tBatchNorm\tN/A\t\tN/A\t\t\tN/A\n",
      "42\t\tReLU\t\tN/A\t\tN/A\t\t\tN/A\n",
      "43\t\tLinear\t\t65536\t\t36045\t\t\t0.449997\n",
      "44\t\tBatchNorm\tN/A\t\tN/A\t\t\tN/A\n",
      "45\t\tReLU\t\tN/A\t\tN/A\t\t\tN/A\n",
      "46\t\tLinear\t\t2560\t\t1408\t\t\t0.450000\n",
      "Total nonzero parameters: 2096424\n",
      "Total parameters: 3811680\n",
      "Total sparsity: 0.450000\n",
      "-------------------------------\n"
     ]
    }
   ],
   "source": [
    "print(\"-----Summary After pruning-----\")\n",
    "summary(net)\n",
    "print(\"-------------------------------\")"
   ]
  },
  {
   "cell_type": "markdown",
   "metadata": {},
   "source": [
    "### Quantization"
   ]
  },
  {
   "cell_type": "code",
   "execution_count": 9,
   "metadata": {},
   "outputs": [
    {
     "name": "stdout",
     "output_type": "stream",
     "text": [
      "Complete 1 layers quantization...\n",
      "Complete 2 layers quantization...\n",
      "Complete 3 layers quantization...\n",
      "Complete 4 layers quantization...\n",
      "Complete 5 layers quantization...\n",
      "Complete 6 layers quantization...\n",
      "Complete 7 layers quantization...\n",
      "Complete 8 layers quantization...\n",
      "Complete 9 layers quantization...\n",
      "Complete 10 layers quantization...\n",
      "Complete 11 layers quantization...\n",
      "Complete 12 layers quantization...\n",
      "Complete 13 layers quantization...\n",
      "Complete 14 layers quantization...\n",
      "Complete 15 layers quantization...\n",
      "Complete 16 layers quantization...\n"
     ]
    }
   ],
   "source": [
    "centers = quantize_whole_model(net, bits=3)\n",
    "np.save(\"codebook_vgg16.npy\", centers)"
   ]
  },
  {
   "cell_type": "code",
   "execution_count": 10,
   "metadata": {},
   "outputs": [
    {
     "name": "stdout",
     "output_type": "stream",
     "text": [
      "Files already downloaded and verified\n",
      "Test Loss=0.3814, Test accuracy=0.9004\n"
     ]
    }
   ],
   "source": [
    "test(net)"
   ]
  },
  {
   "cell_type": "markdown",
   "metadata": {},
   "source": [
    "### Huffman Coding"
   ]
  },
  {
   "cell_type": "code",
   "execution_count": 11,
   "metadata": {},
   "outputs": [
    {
     "name": "stdout",
     "output_type": "stream",
     "text": [
      "Original storage for each parameter: 4.0000 bits\n",
      "{-0.1730333330730597: [1, 1, 1, 1, 1, 1, 1, 1], 0.04084310369116477: [0, 1, 1, 1, 1, 1, 1, 1], -0.09919615405110213: [1, 1, 1, 1, 1, 1, 1], 0.102154545034423: [0, 1, 1, 1, 1, 1, 1], -0.06904473675316887: [1, 1, 1, 1, 1, 1], -0.042533333516783206: [0, 1, 1, 1, 1, 1], -0.13112307597811407: [1, 1, 1, 1, 1], 0.06922307725136095: [0, 1, 1, 1, 1], -0.2452000031868617: [1, 1, 1, 1], -0.0187830189067238: [0, 1, 1, 1], 0.019636842144424436: [1, 1, 1], 0.24595999419689177: [0, 1, 1], 0.0006880597042010189: [1, 1], 0.36540000637372333: [0, 1], 0.1568235290401122: [1], -0.42910000681877136: [0]}\n",
      "Average storage for each parameter after Huffman Coding: 4.5000 bits\n",
      "Complete 1 layers for Huffman Coding...\n",
      "Original storage for each parameter: 4.0000 bits\n",
      "{-0.0666328127263113: [1, 1, 1, 1, 1, 1, 1, 1], -0.02084244614158809: [0, 1, 1, 1, 1, 1, 1, 1], 0.008925806468470064: [1, 1, 1, 1, 1, 1, 1], -0.0007179807675898576: [0, 1, 1, 1, 1, 1, 1], 0.17451249994337562: [1, 1, 1, 1, 1, 1], 0.06813564361764661: [0, 1, 1, 1, 1, 1], -0.04792960008978835: [1, 1, 1, 1, 1], -0.010625686841264576: [0, 1, 1, 1, 1], -0.03304317627776932: [1, 1, 1, 1], 0.04873096462585002: [0, 1, 1, 1], -0.13168636370788916: [1, 1, 1], 0.09161739116129673: [0, 1, 1], 0.12599615351511886: [1, 1], 0.03240553942392249: [0, 1], -0.09332285768219396: [1], 0.01964060002006599: [0]}\n",
      "Average storage for each parameter after Huffman Coding: 4.5000 bits\n",
      "Complete 2 layers for Huffman Coding...\n",
      "Original storage for each parameter: 4.0000 bits\n",
      "{-0.032238202301387756: [1, 1, 1, 1, 1, 1, 1, 1], -0.04274875406071409: [0, 1, 1, 1, 1, 1, 1, 1], 9.486111173621914e-05: [1, 1, 1, 1, 1, 1, 1], -0.056024516277736275: [0, 1, 1, 1, 1, 1, 1], -0.008610290832509245: [1, 1, 1, 1, 1, 1], -0.10017179564023633: [0, 1, 1, 1, 1, 1], 0.02508716905667857: [1, 1, 1, 1, 1], 0.009464581141965306: [0, 1, 1, 1, 1], -0.07202014949784354: [1, 1, 1, 1], 0.03292069473882051: [0, 1, 1, 1], -0.023938198241631774: [1, 1, 1], 0.04216082006319504: [0, 1, 1], -0.016205335835298262: [1, 1], 0.07713684165164039: [0, 1], 0.017542733445125327: [1], 0.054260000131196404: [0]}\n",
      "Average storage for each parameter after Huffman Coding: 4.5000 bits\n",
      "Complete 3 layers for Huffman Coding...\n",
      "Original storage for each parameter: 4.0000 bits\n",
      "{0.014908757767067723: [1, 1, 1, 1, 1, 1, 1, 1], 0.06137037034387944: [0, 1, 1, 1, 1, 1, 1, 1], 0.008338299245559122: [1, 1, 1, 1, 1, 1, 1], -0.05426937821165237: [0, 1, 1, 1, 1, 1, 1], 0.046597539161809184: [1, 1, 1, 1, 1, 1], 0.036241896483378194: [0, 1, 1, 1, 1, 1], -0.010885541584877832: [1, 1, 1, 1, 1], -0.0420336719041345: [0, 1, 1, 1, 1], -0.021865347129289853: [1, 1, 1, 1], -0.02754288381735364: [0, 1, 1, 1], 0.021253684953357412: [1, 1, 1], 0.0017398470107093068: [0, 1, 1], 0.0280741910781654: [1, 1], -0.016376295605595382: [0, 1], -0.004837717271508744: [1], -0.03394232453343771: [0]}\n",
      "Average storage for each parameter after Huffman Coding: 4.5000 bits\n",
      "Complete 4 layers for Huffman Coding...\n",
      "Original storage for each parameter: 4.0000 bits\n",
      "{0.042645934154535034: [1, 1, 1, 1, 1, 1, 1, 1], 0.05836035094240275: [0, 1, 1, 1, 1, 1, 1, 1], 0.025641727223165187: [1, 1, 1, 1, 1, 1, 1], 0.0002870881549949277: [0, 1, 1, 1, 1, 1, 1], -0.022064836397808023: [1, 1, 1, 1, 1, 1], -0.005699127454370591: [0, 1, 1, 1, 1, 1], -0.011353533716103406: [1, 1, 1, 1, 1], 0.019198276924296587: [0, 1, 1, 1, 1], 0.03304225519396967: [1, 1, 1, 1], -0.028121074367208437: [0, 1, 1, 1], -0.04692647628131338: [1, 1, 1], 0.006683318797984592: [0, 1, 1], 0.10766923083708836: [1, 1], 0.013029473418276937: [0, 1], -0.016696238287525735: [1], -0.03564929274444859: [0]}\n",
      "Average storage for each parameter after Huffman Coding: 4.5000 bits\n",
      "Complete 5 layers for Huffman Coding...\n",
      "Original storage for each parameter: 4.0000 bits\n",
      "{-0.01564202199537404: [1, 1, 1, 1, 1, 1, 1, 1], 0.04791262627325248: [0, 1, 1, 1, 1, 1, 1, 1], -0.03819932805133952: [1, 1, 1, 1, 1, 1, 1], 0.010589183132494118: [0, 1, 1, 1, 1, 1, 1], 0.02658965082632353: [1, 1, 1, 1, 1, 1], 0.006062514038079147: [0, 1, 1, 1, 1, 1], -0.024397600040689228: [1, 1, 1, 1, 1], -0.029865948811827355: [0, 1, 1, 1, 1], 0.015185709038373303: [1, 1, 1, 1], -0.00742722839917862: [0, 1, 1, 1], -0.0031416925592200654: [1, 1, 1], 0.020397009788929093: [0, 1, 1], 0.03475317365846956: [1, 1], -0.011584079072962163: [0, 1], -0.019808286317777618: [1], 0.0013693049099864352: [0]}\n",
      "Average storage for each parameter after Huffman Coding: 4.5000 bits\n",
      "Complete 6 layers for Huffman Coding...\n",
      "Original storage for each parameter: 4.0000 bits\n",
      "{0.02848462621910347: [1, 1, 1, 1, 1, 1, 1, 1], 0.003775709078893179: [0, 1, 1, 1, 1, 1, 1, 1], -0.007342192365457966: [1, 1, 1, 1, 1, 1, 1], 0.03720889585606853: [0, 1, 1, 1, 1, 1, 1], 0.0121376179036697: [1, 1, 1, 1, 1, 1], -0.014557844606469758: [0, 1, 1, 1, 1, 1], -0.023951576775779596: [1, 1, 1, 1, 1], -0.03168995181919141: [0, 1, 1, 1, 1], -0.018784272133465195: [1, 1, 1, 1], 0.022026182678952858: [0, 1, 1, 1], 0.007908316728402304: [1, 1, 1], 0.01676937111553766: [0, 1, 1], -0.0001950705193709591: [1, 1], -0.0038755174209345075: [0, 1], 0.05166261260573922: [1], -0.010841188742873617: [0]}\n",
      "Average storage for each parameter after Huffman Coding: 4.5000 bits\n",
      "Complete 7 layers for Huffman Coding...\n",
      "Original storage for each parameter: 4.0000 bits\n",
      "{-0.012651569389224432: [1, 1, 1, 1, 1, 1, 1, 1], -0.02305341155222595: [0, 1, 1, 1, 1, 1, 1, 1], -0.009515665674221546: [1, 1, 1, 1, 1, 1, 1], 0.0004827652220078133: [0, 1, 1, 1, 1, 1, 1], 0.018034548827577008: [1, 1, 1, 1, 1, 1], 0.010496154282116912: [0, 1, 1, 1, 1, 1], -0.004441116099388737: [1, 1, 1, 1, 1], 0.005272906448778445: [0, 1, 1, 1, 1], -0.00686488474907828: [1, 1, 1, 1], -0.01670930956760445: [0, 1, 1, 1], 0.007699745813945619: [1, 1, 1], -0.0020116160223832046: [0, 1, 1], 0.01385731049009031: [1, 1], 0.002928575379624255: [0, 1], 0.024115054343479533: [1], 0.03463398071584613: [0]}\n",
      "Average storage for each parameter after Huffman Coding: 4.5000 bits\n",
      "Complete 8 layers for Huffman Coding...\n",
      "Original storage for each parameter: 4.0000 bits\n",
      "{0.004224435596383858: [1, 1, 1, 1, 1, 1, 1, 1], 0.008324109226976899: [0, 1, 1, 1, 1, 1, 1, 1], -0.0037979554613224486: [1, 1, 1, 1, 1, 1, 1], 0.0026098107883633375: [0, 1, 1, 1, 1, 1, 1], -0.012953759972328265: [1, 1, 1, 1, 1, 1], -0.00021739286013900734: [0, 1, 1, 1, 1, 1], -0.009500653840248377: [1, 1, 1, 1, 1], 0.017825618810435213: [0, 1, 1, 1, 1], 0.0011350701049565525: [1, 1, 1, 1], -0.0014000990725640049: [0, 1, 1, 1], 0.006027096907561821: [1, 1, 1], -0.0025291837192292: [0, 1, 1], -0.005300821280456909: [1, 1], -0.020501646102087937: [0, 1], -0.007135539848065434: [1], 0.011675412961827947: [0]}\n",
      "Average storage for each parameter after Huffman Coding: 4.5000 bits\n",
      "Complete 9 layers for Huffman Coding...\n",
      "Original storage for each parameter: 4.0000 bits\n",
      "{0.0010800780512900954: [1, 1, 1, 1, 1, 1, 1, 1], 0.00863990363710979: [0, 1, 1, 1, 1, 1, 1, 1], 0.003080350796761322: [1, 1, 1, 1, 1, 1, 1], -0.0041167574767960145: [0, 1, 1, 1, 1, 1, 1], 0.004380340563091561: [1, 1, 1, 1, 1, 1], -0.0011880609600020916: [0, 1, 1, 1, 1, 1], -0.013556250023455946: [1, 1, 1, 1, 1], 0.00200527543318104: [0, 1, 1, 1, 1], -0.005941776039522426: [1, 1, 1, 1], 0.013953282852948829: [0, 1, 1, 1], -0.0005126027543411642: [1, 1, 1], -0.0028363619956522953: [0, 1, 1], 0.006095488331712761: [1, 1], -0.00866433646129578: [0, 1], 0.00025177078070907666: [1], -0.0019235184346974403: [0]}\n",
      "Average storage for each parameter after Huffman Coding: 4.5000 bits\n",
      "Complete 10 layers for Huffman Coding...\n",
      "Original storage for each parameter: 4.0000 bits\n",
      "{0.0030006464814021365: [1, 1, 1, 1, 1, 1, 1, 1], -0.00118288445772093: [0, 1, 1, 1, 1, 1, 1, 1], 0.001522158253639233: [1, 1, 1, 1, 1, 1, 1], -0.009548148163912067: [0, 1, 1, 1, 1, 1, 1], 0.0004652132515836026: [1, 1, 1, 1, 1, 1], 0.007015756329916695: [0, 1, 1, 1, 1, 1], -0.002460467315836761: [1, 1, 1, 1, 1], -0.00617288065759986: [0, 1, 1, 1, 1], 0.00437776683446353: [1, 1, 1, 1], -0.00018850477817085657: [0, 1, 1, 1], 0.00098792263417009: [1, 1, 1], -0.003244750522817216: [0, 1, 1], -0.00176070427754427: [1, 1], 0.00215492488498306: [0, 1], -0.004339073499524893: [1], -0.0006977722486616509: [0]}\n",
      "Average storage for each parameter after Huffman Coding: 4.5000 bits\n",
      "Complete 11 layers for Huffman Coding...\n",
      "Original storage for each parameter: 4.0000 bits\n",
      "{-0.00865493674491409: [1, 1, 1, 1, 1, 1, 1, 1], -0.001650600449170147: [0, 1, 1, 1, 1, 1, 1, 1], 0.002761427187913233: [1, 1, 1, 1, 1, 1, 1], -0.003395848641464844: [0, 1, 1, 1, 1, 1, 1], 0.006131811158648099: [1, 1, 1, 1, 1, 1], 0.0007769913256871108: [0, 1, 1, 1, 1, 1], -0.0010716753620903055: [1, 1, 1, 1, 1], -0.005148169258912315: [0, 1, 1, 1, 1], 0.001953622124017485: [1, 1, 1, 1], 0.0013092240934593966: [0, 1, 1, 1], 0.0040027762717380795: [1, 1, 1], -0.002390707375666808: [0, 1, 1], 0.010465369646796169: [1, 1], -0.0006377916060055823: [0, 1], 0.00033098113584409134: [1], -0.00023847618605458783: [0]}\n",
      "Average storage for each parameter after Huffman Coding: 4.5000 bits\n",
      "Complete 12 layers for Huffman Coding...\n",
      "Original storage for each parameter: 4.0000 bits\n",
      "{0.01623468014477479: [1, 1, 1, 1, 1, 1, 1, 1], 0.00025014397316304465: [0, 1, 1, 1, 1, 1, 1, 1], 0.000852810729204919: [1, 1, 1, 1, 1, 1, 1], -0.008318625287278903: [0, 1, 1, 1, 1, 1, 1], 0.025692000035196547: [1, 1, 1, 1, 1, 1], 0.004558618796447092: [0, 1, 1, 1, 1, 1], 0.0028657757441976953: [1, 1, 1, 1, 1], -0.0016208691961919085: [0, 1, 1, 1, 1], 0.006862823972503686: [1, 1, 1, 1], -0.002740275416759883: [0, 1, 1, 1], 0.05172000005841257: [1, 1, 1], -0.004626851422813261: [0, 1, 1], 0.010479741410657372: [1, 1], -0.0003250394424759608: [0, 1], 0.001666859928510717: [1], -0.0009013614299552561: [0]}\n",
      "Average storage for each parameter after Huffman Coding: 4.5000 bits\n",
      "Complete 13 layers for Huffman Coding...\n",
      "Original storage for each parameter: 4.0000 bits\n",
      "{-0.0100209073510749: [1, 1, 1, 1, 1, 1, 1, 1], 0.05366875114850701: [0, 1, 1, 1, 1, 1, 1, 1], 0.025190430653223517: [1, 1, 1, 1, 1, 1, 1], 0.007597706425900812: [0, 1, 1, 1, 1, 1, 1], 0.01773400504789508: [1, 1, 1, 1, 1, 1], -0.006884215175826335: [0, 1, 1, 1, 1, 1], -0.002929900512238053: [1, 1, 1, 1, 1], 0.004590760306735474: [0, 1, 1, 1, 1], -0.000532075916229206: [1, 1, 1, 1], 0.03555466689169403: [0, 1, 1, 1], 0.0009791807613424791: [1, 1, 1], 0.011801815190638285: [0, 1, 1], -0.004679193005996178: [1, 1], -0.014917751487631107: [0, 1], -0.001558493545888039: [1], 0.0025452842712958682: [0]}\n",
      "Average storage for each parameter after Huffman Coding: 4.5000 bits\n",
      "Complete 14 layers for Huffman Coding...\n",
      "Original storage for each parameter: 4.0000 bits\n",
      "{0.020148225852679072: [1, 1, 1, 1, 1, 1, 1, 1], 0.012042312595278652: [0, 1, 1, 1, 1, 1, 1, 1], 0.017175679868847053: [1, 1, 1, 1, 1, 1, 1], 0.009623901630458957: [0, 1, 1, 1, 1, 1, 1], 0.0002202383822571723: [1, 1, 1, 1, 1, 1], 0.0012488546995069842: [0, 1, 1, 1, 1, 1], 0.024023214294131796: [1, 1, 1, 1, 1], 0.014415789433054469: [0, 1, 1, 1, 1], 0.007489077503212255: [1, 1, 1, 1], 0.002413871084740264: [0, 1, 1, 1], 0.0054803548958529905: [1, 1, 1], 0.029915189924590923: [0, 1, 1], -0.0006349733400854043: [1, 1], -0.0020284383910650905: [0, 1], 0.0038613994486942065: [1], -0.005544949536954989: [0]}\n",
      "Average storage for each parameter after Huffman Coding: 4.5000 bits\n",
      "Complete 15 layers for Huffman Coding...\n",
      "Original storage for each parameter: 4.0000 bits\n",
      "{0.3167702708695385: [1, 1, 1, 1, 1, 1, 1, 1], -0.07020149224284869: [0, 1, 1, 1, 1, 1, 1, 1], 0.10959999909003576: [1, 1, 1, 1, 1, 1, 1], 0.3879263150064567: [0, 1, 1, 1, 1, 1, 1], 0.16682500168681139: [1, 1, 1, 1, 1, 1], 0.47616250067949306: [0, 1, 1, 1, 1, 1], -0.0386170164045897: [1, 1, 1, 1, 1], -0.047039394069350544: [0, 1, 1, 1, 1], 0.28403235358350426: [1, 1, 1, 1], 0.2199217392050701: [0, 1, 1, 1], -0.05641291670811705: [1, 1, 1], 0.25729047258694965: [0, 1, 1], 0.42784374766051786: [1, 1], 0.06917894710051387: [0, 1], 0.35039999873139116: [1], 0.5435999929904938: [0]}\n",
      "Average storage for each parameter after Huffman Coding: 4.5000 bits\n",
      "Complete 16 layers for Huffman Coding...\n"
     ]
    }
   ],
   "source": [
    "frequency_map, encoding_map = huffman_coding(net, centers)\n",
    "np.save(\"huffman_encoding\", encoding_map)\n",
    "np.save(\"huffman_freq\", frequency_map)"
   ]
  },
  {
   "cell_type": "code",
   "execution_count": null,
   "metadata": {},
   "outputs": [],
   "source": []
  }
 ],
 "metadata": {
  "kernelspec": {
   "display_name": "Python 3",
   "language": "python",
   "name": "python3"
  },
  "language_info": {
   "codemirror_mode": {
    "name": "ipython",
    "version": 3
   },
   "file_extension": ".py",
   "mimetype": "text/x-python",
   "name": "python",
   "nbconvert_exporter": "python",
   "pygments_lexer": "ipython3",
   "version": "3.5.2"
  },
  "pycharm": {
   "stem_cell": {
    "cell_type": "raw",
    "metadata": {
     "collapsed": false
    },
    "source": []
   }
  }
 },
 "nbformat": 4,
 "nbformat_minor": 1
}
